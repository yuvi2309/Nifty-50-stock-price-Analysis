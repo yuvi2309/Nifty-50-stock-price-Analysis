{
 "cells": [
  {
   "cell_type": "code",
   "execution_count": 1,
   "id": "9f5a8ea1-49d7-4f72-b39e-0de902e13646",
   "metadata": {},
   "outputs": [],
   "source": [
    "import pandas as pd \n",
    "import numpy as np\n",
    "import matplotlib.pyplot as plt\n",
    "import seaborn as sns\n",
    "import os"
   ]
  },
  {
   "cell_type": "markdown",
   "id": "d4d40371-d73c-407a-a178-56d717eb8230",
   "metadata": {},
   "source": [
    "# Data Ingestions"
   ]
  },
  {
   "cell_type": "code",
   "execution_count": 2,
   "id": "e580c768-3e68-4c12-bb5d-eb9d468dd372",
   "metadata": {},
   "outputs": [],
   "source": [
    "paths = {\n",
    "    'nifty_vix' : \"E:/Karan_Bais/python/Ml/Projects/stock/Datasets\",\n",
    "    'company_3min' : \"E:/Karan_Bais/python/Ml/Projects/stock/Datasets/Company_datasets/3min\",\n",
    "    'company_5min' : \"E:/Karan_Bais/python/Ml/Projects/stock/Datasets/Company_datasets/5min\",\n",
    "    'company_15min' : \"E:/Karan_Bais/python/Ml/Projects/stock/Datasets/Company_datasets/15min\",\n",
    "}\n",
    "\n",
    "company_dataset_names = [ \"HDFCBANK\", \"ICICIBANK\", \"INFY\", \"RELIANCE\", \"SBIN\", \"TCS\"]\n",
    "nifty_dataset_names = [\"nifty_5min_data\",\"nifty_15min_data\",\"nifty_day_data_repopulated\"]"
   ]
  },
  {
   "cell_type": "code",
   "execution_count": 3,
   "id": "7e3a97c8-72a8-437f-ab80-7c4e8510d2f8",
   "metadata": {},
   "outputs": [],
   "source": [
    "datasets_5min = {}\n",
    "datasets_15min = {}\n",
    "datasets_3min = {}\n",
    "for name in company_dataset_names:\n",
    "    datasets_5min[name] = pd.read_csv(os.path.join(paths['company_5min'], (name+'.csv')))\n",
    "    datasets_3min[name] = pd.read_csv(os.path.join(paths['company_3min'], (name+'.csv')))\n",
    "    datasets_15min[name] = pd.read_csv(os.path.join(paths['company_15min'], (name+'.csv')))\n",
    "\n",
    "nifty_dataset = {}\n",
    "\n",
    "for name in nifty_dataset_names:\n",
    "    label = name.split('_')[1]\n",
    "    nifty_dataset[label] = pd.read_csv(os.path.join(paths['nifty_vix'], (name+'.csv')))\n",
    "\n",
    "vix_name = \"VIX_2k7_2k24\"\n",
    "vix=pd.read_csv(os.path.join(paths['nifty_vix'], (vix_name+'.csv')))"
   ]
  },
  {
   "cell_type": "code",
   "execution_count": 4,
   "id": "f92e1445-b043-4db9-a661-da7c1a9d84ce",
   "metadata": {},
   "outputs": [
    {
     "name": "stdout",
     "output_type": "stream",
     "text": [
      "Index(['date', 'open', 'high', 'low', 'close'], dtype='object')\n",
      "Index(['date', 'open', 'high', 'low', 'close'], dtype='object')\n",
      "Index(['Unnamed: 0', 'Date', 'Open', 'High', 'Low', 'Close', 'Volume'], dtype='object')\n"
     ]
    }
   ],
   "source": [
    "for data in nifty_dataset.values():\n",
    "    print(data.columns)"
   ]
  },
  {
   "cell_type": "code",
   "execution_count": 6,
   "id": "79d4b662-0a47-472e-ac44-db7512a82136",
   "metadata": {},
   "outputs": [
    {
     "data": {
      "text/html": [
       "<div>\n",
       "<style scoped>\n",
       "    .dataframe tbody tr th:only-of-type {\n",
       "        vertical-align: middle;\n",
       "    }\n",
       "\n",
       "    .dataframe tbody tr th {\n",
       "        vertical-align: top;\n",
       "    }\n",
       "\n",
       "    .dataframe thead th {\n",
       "        text-align: right;\n",
       "    }\n",
       "</style>\n",
       "<table border=\"1\" class=\"dataframe\">\n",
       "  <thead>\n",
       "    <tr style=\"text-align: right;\">\n",
       "      <th></th>\n",
       "      <th>date</th>\n",
       "      <th>open</th>\n",
       "      <th>high</th>\n",
       "      <th>low</th>\n",
       "      <th>close</th>\n",
       "    </tr>\n",
       "  </thead>\n",
       "  <tbody>\n",
       "    <tr>\n",
       "      <th>0</th>\n",
       "      <td>2015-01-09 09:25:00</td>\n",
       "      <td>8285.45</td>\n",
       "      <td>8303.00</td>\n",
       "      <td>8285.45</td>\n",
       "      <td>8294.15</td>\n",
       "    </tr>\n",
       "    <tr>\n",
       "      <th>1</th>\n",
       "      <td>2015-01-09 09:40:00</td>\n",
       "      <td>8294.10</td>\n",
       "      <td>8295.75</td>\n",
       "      <td>8277.40</td>\n",
       "      <td>8285.55</td>\n",
       "    </tr>\n",
       "    <tr>\n",
       "      <th>2</th>\n",
       "      <td>2015-01-09 09:55:00</td>\n",
       "      <td>8285.40</td>\n",
       "      <td>8287.65</td>\n",
       "      <td>8273.95</td>\n",
       "      <td>8282.00</td>\n",
       "    </tr>\n",
       "    <tr>\n",
       "      <th>3</th>\n",
       "      <td>2015-01-09 10:10:00</td>\n",
       "      <td>8281.80</td>\n",
       "      <td>8287.35</td>\n",
       "      <td>8274.95</td>\n",
       "      <td>8281.55</td>\n",
       "    </tr>\n",
       "    <tr>\n",
       "      <th>4</th>\n",
       "      <td>2015-01-09 10:25:00</td>\n",
       "      <td>8281.50</td>\n",
       "      <td>8291.10</td>\n",
       "      <td>8277.95</td>\n",
       "      <td>8290.45</td>\n",
       "    </tr>\n",
       "    <tr>\n",
       "      <th>...</th>\n",
       "      <td>...</td>\n",
       "      <td>...</td>\n",
       "      <td>...</td>\n",
       "      <td>...</td>\n",
       "      <td>...</td>\n",
       "    </tr>\n",
       "    <tr>\n",
       "      <th>55789</th>\n",
       "      <td>2024-01-25 14:25:00</td>\n",
       "      <td>21279.10</td>\n",
       "      <td>21283.65</td>\n",
       "      <td>21262.10</td>\n",
       "      <td>21274.85</td>\n",
       "    </tr>\n",
       "    <tr>\n",
       "      <th>55790</th>\n",
       "      <td>2024-01-25 14:40:00</td>\n",
       "      <td>21277.35</td>\n",
       "      <td>21293.70</td>\n",
       "      <td>21249.45</td>\n",
       "      <td>21257.55</td>\n",
       "    </tr>\n",
       "    <tr>\n",
       "      <th>55791</th>\n",
       "      <td>2024-01-25 14:55:00</td>\n",
       "      <td>21257.40</td>\n",
       "      <td>21280.85</td>\n",
       "      <td>21257.10</td>\n",
       "      <td>21265.85</td>\n",
       "    </tr>\n",
       "    <tr>\n",
       "      <th>55792</th>\n",
       "      <td>2024-01-25 15:10:00</td>\n",
       "      <td>21266.40</td>\n",
       "      <td>21360.00</td>\n",
       "      <td>21266.40</td>\n",
       "      <td>21343.30</td>\n",
       "    </tr>\n",
       "    <tr>\n",
       "      <th>55793</th>\n",
       "      <td>2024-01-25 15:25:00</td>\n",
       "      <td>21343.05</td>\n",
       "      <td>21401.75</td>\n",
       "      <td>21339.45</td>\n",
       "      <td>21370.75</td>\n",
       "    </tr>\n",
       "  </tbody>\n",
       "</table>\n",
       "<p>55794 rows × 5 columns</p>\n",
       "</div>"
      ],
      "text/plain": [
       "                      date      open      high       low     close\n",
       "0      2015-01-09 09:25:00   8285.45   8303.00   8285.45   8294.15\n",
       "1      2015-01-09 09:40:00   8294.10   8295.75   8277.40   8285.55\n",
       "2      2015-01-09 09:55:00   8285.40   8287.65   8273.95   8282.00\n",
       "3      2015-01-09 10:10:00   8281.80   8287.35   8274.95   8281.55\n",
       "4      2015-01-09 10:25:00   8281.50   8291.10   8277.95   8290.45\n",
       "...                    ...       ...       ...       ...       ...\n",
       "55789  2024-01-25 14:25:00  21279.10  21283.65  21262.10  21274.85\n",
       "55790  2024-01-25 14:40:00  21277.35  21293.70  21249.45  21257.55\n",
       "55791  2024-01-25 14:55:00  21257.40  21280.85  21257.10  21265.85\n",
       "55792  2024-01-25 15:10:00  21266.40  21360.00  21266.40  21343.30\n",
       "55793  2024-01-25 15:25:00  21343.05  21401.75  21339.45  21370.75\n",
       "\n",
       "[55794 rows x 5 columns]"
      ]
     },
     "execution_count": 6,
     "metadata": {},
     "output_type": "execute_result"
    }
   ],
   "source": [
    "nifty_dataset[\"15min\"]"
   ]
  },
  {
   "cell_type": "code",
   "execution_count": null,
   "id": "e8334626-baae-4f35-a5e0-5cf4e62df575",
   "metadata": {},
   "outputs": [],
   "source": []
  },
  {
   "cell_type": "code",
   "execution_count": null,
   "id": "c25a7134-563a-46cd-b831-843cf892b588",
   "metadata": {},
   "outputs": [],
   "source": []
  },
  {
   "cell_type": "code",
   "execution_count": null,
   "id": "2105e533-0d0d-4b4a-949a-81ac8b030dfc",
   "metadata": {},
   "outputs": [],
   "source": []
  },
  {
   "cell_type": "markdown",
   "id": "720deb11-1081-4fe3-a6a0-45475b6e001f",
   "metadata": {},
   "source": [
    "# Data visualization"
   ]
  },
  {
   "cell_type": "code",
   "execution_count": 5,
   "id": "d9e15c9f-bfc6-4150-955e-7375c5c1ffae",
   "metadata": {},
   "outputs": [
    {
     "data": {
      "image/png": "[encoded data removed]",
      "text/plain": [
       "<Figure size 1400x700 with 1 Axes>"
      ]
     },
     "metadata": {},
     "output_type": "display_data"
    }
   ],
   "source": [
    "plt.figure(figsize=(14, 7))\n",
    "# plt.plot(nifty_dataset['5min']['date'], nifty_dataset['5min']['close'], label='Nifty 5min')\n",
    "# plt.plot(nifty_dataset['15min']['date'],nifty_dataset['15min']['close'], label='Nifty 15min')\n",
    "plt.plot(nifty_dataset['day']['Date'], nifty_dataset['day']['Close'], label='Nifty Daily')\n",
    "plt.title('Nifty Index Price Movements')\n",
    "plt.xlabel('Date')\n",
    "plt.ylabel('Price')\n",
    "plt.legend()\n",
    "plt.show()"
   ]
  },
  {
   "cell_type": "code",
   "execution_count": null,
   "id": "bb4cac2c-f51c-48ec-9c27-63b762d96f80",
   "metadata": {},
   "outputs": [],
   "source": []
  },
  {
   "cell_type": "code",
   "execution_count": null,
   "id": "74c526bc-65ec-4dbf-a806-38936962d5c3",
   "metadata": {},
   "outputs": [],
   "source": []
  },
  {
   "cell_type": "code",
   "execution_count": null,
   "id": "fa3e41d3-3ec7-4293-857a-dbba807cebe6",
   "metadata": {},
   "outputs": [],
   "source": []
  },
  {
   "cell_type": "code",
   "execution_count": null,
   "id": "4a045294-29e0-4628-9c3c-e2c1de76e555",
   "metadata": {},
   "outputs": [],
   "source": []
  },
  {
   "cell_type": "code",
   "execution_count": null,
   "id": "1cbd2b13-7ccf-4318-b66a-825b6458c741",
   "metadata": {},
   "outputs": [],
   "source": []
  },
  {
   "cell_type": "code",
   "execution_count": null,
   "id": "7f2e07ae-5316-4c99-9720-28a4dd45fc9d",
   "metadata": {},
   "outputs": [],
   "source": []
  },
  {
   "cell_type": "code",
   "execution_count": null,
   "id": "011beba3-ee41-424e-ae60-82eee8ce05de",
   "metadata": {},
   "outputs": [],
   "source": []
  },
  {
   "cell_type": "code",
   "execution_count": null,
   "id": "0aa0cb94-451f-4c2c-9fec-9582f077523e",
   "metadata": {},
   "outputs": [],
   "source": []
  },
  {
   "cell_type": "code",
   "execution_count": null,
   "id": "d09ee2a9-c367-455a-8339-ec82fec23c7e",
   "metadata": {},
   "outputs": [],
   "source": []
  },
  {
   "cell_type": "code",
   "execution_count": null,
   "id": "6aa769c3-b882-42c9-bd4e-93876356aeb4",
   "metadata": {},
   "outputs": [],
   "source": []
  },
  {
   "cell_type": "code",
   "execution_count": null,
   "id": "a5686600-5827-440f-ae86-ff048f56378a",
   "metadata": {},
   "outputs": [],
   "source": []
  },
  {
   "cell_type": "code",
   "execution_count": null,
   "id": "ba04c093-fb82-4d34-aad8-5901e0166a39",
   "metadata": {},
   "outputs": [],
   "source": []
  },
  {
   "cell_type": "code",
   "execution_count": null,
   "id": "81c7b150-c64d-42c5-b2ec-5af0675da801",
   "metadata": {},
   "outputs": [],
   "source": []
  },
  {
   "cell_type": "code",
   "execution_count": null,
   "id": "b6fea2f0-0e99-48c4-a70d-955a79b89709",
   "metadata": {},
   "outputs": [],
   "source": []
  },
  {
   "cell_type": "code",
   "execution_count": null,
   "id": "19dcffa6-4b69-4d49-923b-27a27820d0fa",
   "metadata": {},
   "outputs": [],
   "source": []
  },
  {
   "cell_type": "code",
   "execution_count": null,
   "id": "85901b5c-c0cc-4b72-b9f9-7baa373b6cfb",
   "metadata": {},
   "outputs": [],
   "source": []
  },
  {
   "cell_type": "code",
   "execution_count": null,
   "id": "f991c999-87d3-4373-a16e-969ee1c4b681",
   "metadata": {},
   "outputs": [],
   "source": []
  },
  {
   "cell_type": "code",
   "execution_count": null,
   "id": "37c4e144-2502-4ebb-8ab9-9ad82cbc0e17",
   "metadata": {},
   "outputs": [],
   "source": []
  }
 ],
 "metadata": {
  "kernelspec": {
   "display_name": "python stock",
   "language": "python",
   "name": "stock"
  },
  "language_info": {
   "codemirror_mode": {
    "name": "ipython",
    "version": 3
   },
   "file_extension": ".py",
   "mimetype": "text/x-python",
   "name": "python",
   "nbconvert_exporter": "python",
   "pygments_lexer": "ipython3",
   "version": "3.12.3"
  }
 },
 "nbformat": 4,
 "nbformat_minor": 5
}
