{
 "cells": [
  {
   "cell_type": "code",
   "execution_count": 8,
   "id": "3d8d0b0a-44e9-42bf-b650-4c22468c0b78",
   "metadata": {},
   "outputs": [],
   "source": [
    "import pandas as pd \n",
    "import numpy as np\n",
    "import matplotlib.pyplot as plt\n",
    "import seaborn as sns\n",
    "import os"
   ]
  },
  {
   "cell_type": "code",
   "execution_count": 9,
   "id": "42b83841-842f-44be-942e-06a631ce7c04",
   "metadata": {},
   "outputs": [],
   "source": [
    "paths = {\n",
    "    'nifty' : \"../../Datasets/\",\n",
    "    'vix' : \"../../Datasets/India_VIX.csv\",\n",
    "    'company_3min' : \"../../Datasets/Company_datasets/3min\",\n",
    "    'company_5min' : \"../../Datasets/Company_datasets/5min\",\n",
    "    'company_15min' : \"../../Datasets/Company_datasets/15min\",\n",
    "}\n",
    "\n",
    "company_dataset_names = [ \"HDFCBANK\", \"ICICIBANK\", \"INFY\", \"RELIANCE\", \"SBIN\", \"TCS\"]\n",
    "nifty_dataset_names = [\"nifty_5min_data\",\"nifty_15min_data\",\"nifty_day_data_repopulated\"]"
   ]
  },
  {
   "cell_type": "code",
   "execution_count": 12,
   "id": "ecf6493d-0b69-4c7c-8314-f2b6fba74d17",
   "metadata": {},
   "outputs": [],
   "source": [
    "datasets_5min = {}\n",
    "datasets_15min = {}\n",
    "datasets_3min = {}\n",
    "for name in company_dataset_names:\n",
    "    datasets_3min[name] = pd.read_csv((paths['company_3min'] + ('/'+name+'.csv')))\n",
    "    datasets_5min[name] = pd.read_csv((paths['company_5min'] + ('/'+name+'.csv')))\n",
    "    datasets_15min[name] = pd.read_csv((paths['company_15min'] + ('/'+name+'.csv')))\n",
    "\n",
    "nifty_dataset = {}\n",
    "\n",
    "for name in nifty_dataset_names:\n",
    "    label = name.split('_')[1]\n",
    "    nifty_dataset[label] = pd.read_csv((paths['nifty'] + (name+'.csv')))\n",
    "\n",
    "vix_name = \"India_VIX\"\n",
    "vix=pd.read_csv(paths['vix'])"
   ]
  },
  {
   "cell_type": "code",
   "execution_count": null,
   "id": "816a2400-babc-413b-8538-be1176a698b3",
   "metadata": {},
   "outputs": [],
   "source": []
  },
  {
   "cell_type": "code",
   "execution_count": 11,
   "id": "90fb9f2c-7dd1-43a6-ae2e-22b36e8cd162",
   "metadata": {},
   "outputs": [],
   "source": []
  },
  {
   "cell_type": "code",
   "execution_count": null,
   "id": "55ca6ded-a7a7-4b38-af8e-9e384523d7c8",
   "metadata": {},
   "outputs": [],
   "source": []
  }
 ],
 "metadata": {
  "kernelspec": {
   "display_name": "stock",
   "language": "python",
   "name": "stock"
  },
  "language_info": {
   "codemirror_mode": {
    "name": "ipython",
    "version": 3
   },
   "file_extension": ".py",
   "mimetype": "text/x-python",
   "name": "python",
   "nbconvert_exporter": "python",
   "pygments_lexer": "ipython3",
   "version": "3.12.3"
  }
 },
 "nbformat": 4,
 "nbformat_minor": 5
}
