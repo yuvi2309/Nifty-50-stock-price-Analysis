{
 "cells": [
  {
   "cell_type": "code",
   "execution_count": 4,
   "id": "c94a0cd1-7802-4641-9a5c-829216a412b6",
   "metadata": {},
   "outputs": [
    {
     "name": "stdout",
     "output_type": "stream",
     "text": [
      "E:\\Karan_Bais\\python\\Ml\\Projects\\Stock\n"
     ]
    }
   ],
   "source": [
    "!cd"
   ]
  },
  {
   "cell_type": "code",
   "execution_count": 5,
   "id": "e4d59d75-c3a4-411a-8831-bbfca380ad5b",
   "metadata": {},
   "outputs": [
    {
     "name": "stdout",
     "output_type": "stream",
     "text": [
      " Volume in drive E is Workflow\n",
      " Volume Serial Number is 9462-BAF0\n",
      "\n",
      " Directory of E:\\Karan_Bais\\python\\Ml\\Projects\\Stock\n",
      "\n",
      "05-06-2024  14:34    <DIR>          .\n",
      "05-06-2024  14:34    <DIR>          ..\n",
      "05-06-2024  14:33    <DIR>          .ipynb_checkpoints\n",
      "03-06-2024  16:53       430,852,571 15minute-20221106T164430Z-001.zip\n",
      "03-06-2024  16:58     1,424,474,107 3minute.zip\n",
      "04-06-2024  20:00    <DIR>          day-20221106T165843Z-001\n",
      "03-06-2024  16:50        26,527,526 day-20221106T165843Z-001.zip\n",
      "05-06-2024  14:32               337 Generate_15min_5min.ipynb\n",
      "03-06-2024  17:01        46,614,355 NIFTY50.csv\n",
      "               5 File(s)  1,928,468,896 bytes\n",
      "               4 Dir(s)  176,775,331,840 bytes free\n"
     ]
    }
   ],
   "source": [
    "!dir"
   ]
  },
  {
   "cell_type": "code",
   "execution_count": 6,
   "id": "f0158f0f-fed0-4fad-a8e3-677bd5385d3f",
   "metadata": {},
   "outputs": [],
   "source": [
    "import pandas as pd \n",
    "import numpy as np"
   ]
  },
  {
   "cell_type": "code",
   "execution_count": 7,
   "id": "fa138ffc-ed43-462b-ad87-41386de930b9",
   "metadata": {},
   "outputs": [],
   "source": [
    "df = pd.read_csv(f'Nifty50.csv')"
   ]
  },
  {
   "cell_type": "code",
   "execution_count": 8,
   "id": "b900df16-3360-4573-b617-c4de1a2f7491",
   "metadata": {},
   "outputs": [
    {
     "data": {
      "text/html": [
       "<div>\n",
       "<style scoped>\n",
       "    .dataframe tbody tr th:only-of-type {\n",
       "        vertical-align: middle;\n",
       "    }\n",
       "\n",
       "    .dataframe tbody tr th {\n",
       "        vertical-align: top;\n",
       "    }\n",
       "\n",
       "    .dataframe thead th {\n",
       "        text-align: right;\n",
       "    }\n",
       "</style>\n",
       "<table border=\"1\" class=\"dataframe\">\n",
       "  <thead>\n",
       "    <tr style=\"text-align: right;\">\n",
       "      <th></th>\n",
       "      <th>date</th>\n",
       "      <th>open</th>\n",
       "      <th>high</th>\n",
       "      <th>low</th>\n",
       "      <th>close</th>\n",
       "      <th>volume</th>\n",
       "    </tr>\n",
       "  </thead>\n",
       "  <tbody>\n",
       "    <tr>\n",
       "      <th>0</th>\n",
       "      <td>2015-01-09 09:15:00</td>\n",
       "      <td>8285.45</td>\n",
       "      <td>8295.90</td>\n",
       "      <td>8285.45</td>\n",
       "      <td>8292.10</td>\n",
       "      <td>0</td>\n",
       "    </tr>\n",
       "    <tr>\n",
       "      <th>1</th>\n",
       "      <td>2015-01-09 09:16:00</td>\n",
       "      <td>8292.60</td>\n",
       "      <td>8293.60</td>\n",
       "      <td>8287.20</td>\n",
       "      <td>8288.15</td>\n",
       "      <td>0</td>\n",
       "    </tr>\n",
       "    <tr>\n",
       "      <th>2</th>\n",
       "      <td>2015-01-09 09:17:00</td>\n",
       "      <td>8287.40</td>\n",
       "      <td>8293.90</td>\n",
       "      <td>8287.40</td>\n",
       "      <td>8293.90</td>\n",
       "      <td>0</td>\n",
       "    </tr>\n",
       "    <tr>\n",
       "      <th>3</th>\n",
       "      <td>2015-01-09 09:18:00</td>\n",
       "      <td>8294.25</td>\n",
       "      <td>8300.65</td>\n",
       "      <td>8293.90</td>\n",
       "      <td>8300.65</td>\n",
       "      <td>0</td>\n",
       "    </tr>\n",
       "    <tr>\n",
       "      <th>4</th>\n",
       "      <td>2015-01-09 09:19:00</td>\n",
       "      <td>8300.60</td>\n",
       "      <td>8301.30</td>\n",
       "      <td>8298.75</td>\n",
       "      <td>8301.20</td>\n",
       "      <td>0</td>\n",
       "    </tr>\n",
       "  </tbody>\n",
       "</table>\n",
       "</div>"
      ],
      "text/plain": [
       "                  date     open     high      low    close  volume\n",
       "0  2015-01-09 09:15:00  8285.45  8295.90  8285.45  8292.10       0\n",
       "1  2015-01-09 09:16:00  8292.60  8293.60  8287.20  8288.15       0\n",
       "2  2015-01-09 09:17:00  8287.40  8293.90  8287.40  8293.90       0\n",
       "3  2015-01-09 09:18:00  8294.25  8300.65  8293.90  8300.65       0\n",
       "4  2015-01-09 09:19:00  8300.60  8301.30  8298.75  8301.20       0"
      ]
     },
     "execution_count": 8,
     "metadata": {},
     "output_type": "execute_result"
    }
   ],
   "source": [
    "df.head()"
   ]
  },
  {
   "cell_type": "code",
   "execution_count": 9,
   "id": "cb2e1e38-9e8b-4fa8-a915-61dc35f3e117",
   "metadata": {},
   "outputs": [
    {
     "name": "stdout",
     "output_type": "stream",
     "text": [
      "<class 'pandas.core.frame.DataFrame'>\n",
      "RangeIndex: 836757 entries, 0 to 836756\n",
      "Data columns (total 6 columns):\n",
      " #   Column  Non-Null Count   Dtype  \n",
      "---  ------  --------------   -----  \n",
      " 0   date    836757 non-null  object \n",
      " 1   open    836757 non-null  float64\n",
      " 2   high    836757 non-null  float64\n",
      " 3   low     836757 non-null  float64\n",
      " 4   close   836757 non-null  float64\n",
      " 5   volume  836757 non-null  int64  \n",
      "dtypes: float64(4), int64(1), object(1)\n",
      "memory usage: 38.3+ MB\n"
     ]
    }
   ],
   "source": [
    "df.info()"
   ]
  },
  {
   "cell_type": "code",
   "execution_count": 10,
   "id": "653b73b1-875a-4ae4-bc96-30bde6bc043d",
   "metadata": {},
   "outputs": [
    {
     "data": {
      "text/plain": [
       "date      0\n",
       "open      0\n",
       "high      0\n",
       "low       0\n",
       "close     0\n",
       "volume    0\n",
       "dtype: int64"
      ]
     },
     "execution_count": 10,
     "metadata": {},
     "output_type": "execute_result"
    }
   ],
   "source": [
    "df.isnull().sum()"
   ]
  },
  {
   "cell_type": "code",
   "execution_count": 14,
   "id": "b202edcb-50fd-46fc-bbbb-c2c57103d55e",
   "metadata": {},
   "outputs": [
    {
     "name": "stdout",
     "output_type": "stream",
     "text": [
      "date --- 0\n",
      "open --- 0\n",
      "high --- 0\n",
      "low --- 0\n",
      "close --- 0\n",
      "volume --- 836757\n"
     ]
    }
   ],
   "source": [
    "for clm in df.columns:\n",
    "    print(str(clm) + \" --- \" + str((df[str(clm)] == 0).sum()))"
   ]
  },
  {
   "cell_type": "code",
   "execution_count": 15,
   "id": "5d5c6bb0-8595-4823-ae32-fe17b1c72cff",
   "metadata": {},
   "outputs": [],
   "source": [
    "df.drop(columns= ['volume'], inplace = True)"
   ]
  },
  {
   "cell_type": "code",
   "execution_count": 16,
   "id": "d3b4b564-3a54-42f2-a976-a62c879339cb",
   "metadata": {},
   "outputs": [
    {
     "name": "stdout",
     "output_type": "stream",
     "text": [
      "<class 'pandas.core.frame.DataFrame'>\n",
      "RangeIndex: 836757 entries, 0 to 836756\n",
      "Data columns (total 5 columns):\n",
      " #   Column  Non-Null Count   Dtype  \n",
      "---  ------  --------------   -----  \n",
      " 0   date    836757 non-null  object \n",
      " 1   open    836757 non-null  float64\n",
      " 2   high    836757 non-null  float64\n",
      " 3   low     836757 non-null  float64\n",
      " 4   close   836757 non-null  float64\n",
      "dtypes: float64(4), object(1)\n",
      "memory usage: 31.9+ MB\n"
     ]
    }
   ],
   "source": [
    "df.info()"
   ]
  },
  {
   "cell_type": "code",
   "execution_count": 54,
   "id": "6de6a101-a444-4d64-b817-23933359b67d",
   "metadata": {},
   "outputs": [],
   "source": [
    "df.to_csv(\"NIFTY50-(1).csv\", index=False)"
   ]
  },
  {
   "cell_type": "code",
   "execution_count": 55,
   "id": "5afcaa04-0562-4ed2-9f50-f07ab072b80f",
   "metadata": {},
   "outputs": [],
   "source": [
    "Nifty_1min_data = pd.read_csv(\"NIFTY50-(1).csv\" , parse_dates=['date'])"
   ]
  },
  {
   "cell_type": "code",
   "execution_count": 56,
   "id": "7c0975bf-980b-486a-8cbb-542a42528285",
   "metadata": {},
   "outputs": [],
   "source": [
    "nifty_date_indexed = Nifty_1min_data.set_index(['date'])"
   ]
  },
  {
   "cell_type": "code",
   "execution_count": 57,
   "id": "7d4b321f-d1d5-4dcd-b74e-a8c39203af4f",
   "metadata": {},
   "outputs": [
    {
     "data": {
      "text/plain": [
       "Timedelta('3303 days 06:14:00')"
      ]
     },
     "execution_count": 57,
     "metadata": {},
     "output_type": "execute_result"
    }
   ],
   "source": [
    "Nifty_1min_data['date'].max() - Nifty_1min_data['date'].min()"
   ]
  },
  {
   "cell_type": "code",
   "execution_count": 59,
   "id": "190c3f25-c2a7-401f-80e5-35b2516f87d4",
   "metadata": {},
   "outputs": [],
   "source": [
    "stock_5min_data = nifty_date_indexed.groupby(pd.Grouper(freq='5min',origin='start',label='right')).agg({\"open\": \"first\", \"high\": \"max\", \"low\": \"min\", \"close\": \"last\"})\n",
    "stock_5min_data.index += pd.Timedelta(minutes=-5)\n",
    "\n",
    "stock_5min_data.dropna(inplace=True)"
   ]
  },
  {
   "cell_type": "code",
   "execution_count": 60,
   "id": "0c1d26c5-174e-483f-a306-dc18068b268f",
   "metadata": {},
   "outputs": [],
   "source": [
    "stock_5min_data.to_csv('nifty_5min_data.csv')"
   ]
  },
  {
   "cell_type": "code",
   "execution_count": 61,
   "id": "6cc071f5-da97-4ecd-b702-122641e9afad",
   "metadata": {},
   "outputs": [],
   "source": [
    "stock_15min_data = nifty_date_indexed.groupby(pd.Grouper(freq='15min',origin='start',label='right')).agg({\"open\": \"first\", \"high\": \"max\", \"low\": \"min\", \"close\": \"last\"})\n",
    "stock_15min_data.index += pd.Timedelta(minutes=-5)\n",
    "\n",
    "stock_15min_data.dropna(inplace=True)"
   ]
  },
  {
   "cell_type": "code",
   "execution_count": 62,
   "id": "caabbcf5-1ee4-45aa-bc09-89d9d54dc836",
   "metadata": {},
   "outputs": [],
   "source": [
    "stock_15min_data.to_csv('nifty_15min_data.csv')"
   ]
  },
  {
   "cell_type": "code",
   "execution_count": null,
   "id": "24200d9d-4403-456e-96d0-1beecdbbcbb7",
   "metadata": {},
   "outputs": [],
   "source": []
  },
  {
   "cell_type": "code",
   "execution_count": null,
   "id": "8212d729-0853-4c61-8e5a-b55d49c5dd9c",
   "metadata": {},
   "outputs": [],
   "source": []
  },
  {
   "cell_type": "code",
   "execution_count": null,
   "id": "1e40cab4-d350-470c-8aa9-9029112b0a4a",
   "metadata": {},
   "outputs": [],
   "source": []
  }
 ],
 "metadata": {
  "kernelspec": {
   "display_name": "python stock",
   "language": "python",
   "name": "stock"
  },
  "language_info": {
   "codemirror_mode": {
    "name": "ipython",
    "version": 3
   },
   "file_extension": ".py",
   "mimetype": "text/x-python",
   "name": "python",
   "nbconvert_exporter": "python",
   "pygments_lexer": "ipython3",
   "version": "3.12.3"
  }
 },
 "nbformat": 4,
 "nbformat_minor": 5
}
